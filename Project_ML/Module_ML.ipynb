{
 "cells": [
  {
   "cell_type": "code",
   "execution_count": 1,
   "metadata": {},
   "outputs": [],
   "source": [
    "import numpy as np\n",
    "import matplotlib.pyplot as plt\n",
    "import pandas as pd\n",
    "%matplotlib inline"
   ]
  },
  {
   "cell_type": "code",
   "execution_count": 2,
   "metadata": {},
   "outputs": [
    {
     "name": "stdout",
     "output_type": "stream",
     "text": [
      "Overwriting stock.py\n"
     ]
    }
   ],
   "source": [
    "%%writefile stock.py\n",
    "def mean2020(input):\n",
    "    \"\"\"\n",
    "    returns the mean of the stock's 2020 volume, opening, high, low, closing, and adjacent closing price.\n",
    "    \"\"\" \n",
    "    import pandas as pd\n",
    "    inputstock = input.upper() # set name as caps\n",
    "    stockinp = pd.read_csv(inputstock+\".csv\") # read in data\n",
    "    stockinp['Date'] = pd.to_datetime(stockinp['Date'], errors='coerce') # convert column to date time\n",
    "    stockinp['Year'] = stockinp['Date'].dt.year # create column based on year in date\n",
    "    print(\"Mean of 2020 for \" +inputstock+ \"'s prices and volumes:\")\n",
    "\n",
    "    year = stockinp.groupby(['Year']).mean() # group by year, find mean of year\n",
    "    latest = year.iloc[[-1]] # latest year of the stock data\n",
    "    return latest\n",
    "def March2020Increase(input):\n",
    "    \"\"\"\n",
    "    return the days in March 2020 where the input stock's opening prices increased from the previous day\n",
    "    \"\"\" \n",
    "    import numpy as np\n",
    "    import pandas as pd\n",
    "    inputstock = input.upper() # cap name\n",
    "    stockinp = pd.read_csv(inputstock+\".csv\") # read in datafile\n",
    "    stockinp['Date'] = pd.to_datetime(stockinp['Date'], errors='coerce') # convert column to date time\n",
    "    stockinp['Year'] = stockinp['Date'].dt.year # create column based on year in date\n",
    "    stockinp['Month'] = stockinp['Date'].dt.month \n",
    "    stockinp['Day'] = stockinp['Date'].dt.day\n",
    "    stockinp['Date'] = stockinp['Date'].dt.date # this will remove the timestamp from the date when printing later on\n",
    "    \n",
    "    is_2020 = stockinp['Year']==2020 # filter for year\n",
    "    stock2020 = stockinp[is_2020] # places into dataframe\n",
    "    march_2020 = stock2020['Month']==3 # filter for 3rd month, march\n",
    "    stockMarch2020 = stock2020[march_2020] # append column\n",
    "    stockMarch2020 = stockMarch2020.sort_values('Date', ascending = True)\n",
    "    \n",
    "    print(\"Days in March 2020 where \" +inputstock+\"'s opening prices increased from the previous day:\")\n",
    "    \n",
    "    y=np.arange(len(stockMarch2020['Date'])-1) # gives the count of the number of days\n",
    "    \n",
    "    result=[0] # list to append to\n",
    "    for i in y:\n",
    "        stockdiff = stockMarch2020['Open'].iloc[i+1] - stockMarch2020['Open'].iloc[i] # find differences in opening prices\n",
    "        result.append(stockdiff)\n",
    "    \n",
    "    stockMarch2020['result']=result # append column for easier filtering\n",
    "    list1 = []\n",
    "    z=np.arange(len(stockMarch2020['Date'])) # gives count of rows\n",
    "    for x in z:\n",
    "        if stockMarch2020['result'].iloc[x]>0: # filter for positive differences\n",
    "            print(stockMarch2020['Date'].iloc[x]) \n",
    "            list1 = np.append(list1, stockMarch2020['Date'].iloc[x])\n",
    "    return list1\n",
    "def March2020Closing(input):\n",
    "    \"\"\"\n",
    "    return a chart of the input stock's closing prices in March 2020\n",
    "    \"\"\" \n",
    "    import numpy as np\n",
    "    import matplotlib.pyplot as plt\n",
    "    import pandas as pd\n",
    "    inputstock = input.upper() # cap name\n",
    "    stockinp = pd.read_csv(inputstock+\".csv\") # read in datafile\n",
    "    stockinp['Date'] = pd.to_datetime(stockinp['Date'], errors='coerce') # convert column to date time\n",
    "    stockinp['Year'] = stockinp['Date'].dt.year # create column based on year in date\n",
    "    stockinp['Month'] = stockinp['Date'].dt.month # column based on month\n",
    "    \n",
    "    is_2020 = stockinp['Year']==2020 # filter for year\n",
    "    stock2020 = stockinp[is_2020] # places into dataframe\n",
    "    march_2020 = stock2020['Month']==3 # filter for 3rd month, march\n",
    "    stockMarch2020 = stock2020[march_2020] # append\n",
    "    stockMarch2020 = stockMarch2020.sort_values('Date', ascending = True) # sort ascending of column\n",
    "    \n",
    "    stockMarch2020['Day'] = stockMarch2020['Date'].dt.day # create column basted on day\n",
    "    # define variable\n",
    "    day = stockMarch2020.Day\n",
    "    close = stockMarch2020.Close\n",
    "    # plotting numbers of days against closing prices\n",
    "    plt.figure(figsize=(10,5))\n",
    "    plt.plot(day,close)\n",
    "    plt.xticks(np.arange(min(day), max(day), 1.0)) # set xaxis ticks using the first and last days\n",
    "    plt.xlabel('Day')\n",
    "    plt.ylabel('Closing Price')\n",
    "    return plt.title(inputstock+' Closing Prices March 2020')\n",
    "    plt.show()"
   ]
  }
 ],
 "metadata": {
  "kernelspec": {
   "display_name": "Python 3",
   "language": "python",
   "name": "python3"
  },
  "language_info": {
   "codemirror_mode": {
    "name": "ipython",
    "version": 3
   },
   "file_extension": ".py",
   "mimetype": "text/x-python",
   "name": "python",
   "nbconvert_exporter": "python",
   "pygments_lexer": "ipython3",
   "version": "3.8.6"
  }
 },
 "nbformat": 4,
 "nbformat_minor": 2
}
