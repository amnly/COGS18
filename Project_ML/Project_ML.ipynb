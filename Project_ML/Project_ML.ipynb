{
 "cells": [
  {
   "cell_type": "markdown",
   "metadata": {},
   "source": [
    "This program includes a module to calculate the mean of 2020 for a stock's prices and volume, find the days in March 2020 where the stock's prices increased relative to the previous days, and create a chart of the closing prices of the stock over March 2020."
   ]
  },
  {
   "cell_type": "markdown",
   "metadata": {},
   "source": [
    "For the program, import the module and call the different functions you would like to use. The module already automatically reads in the data when you input the stock symbol, which is a unique series of letters assigned to a security for trading (for this project, the datafiles' names are already the symbols). For the third function, please remember to run the code '%matplotlib inline' first."
   ]
  },
  {
   "cell_type": "code",
   "execution_count": null,
   "metadata": {},
   "outputs": [],
   "source": [
    "import stock\n",
    "import pandas as pd\n",
    "%matplotlib inline"
   ]
  },
  {
   "cell_type": "markdown",
   "metadata": {},
   "source": [
    "Calling first set of functions for the first stock. Please input NFLX in the parantheses for the following functions. The first function has already been done as an example. You can input in either letter cases, or even a mix of both! :)"
   ]
  },
  {
   "cell_type": "code",
   "execution_count": null,
   "metadata": {},
   "outputs": [],
   "source": [
    "stock.mean2020('nFLx')"
   ]
  },
  {
   "cell_type": "code",
   "execution_count": null,
   "metadata": {},
   "outputs": [],
   "source": [
    "stock.March2020Increase()"
   ]
  },
  {
   "cell_type": "code",
   "execution_count": null,
   "metadata": {},
   "outputs": [],
   "source": [
    "stock.March2020Closing()"
   ]
  },
  {
   "cell_type": "markdown",
   "metadata": {},
   "source": [
    "Calling set of functions for the second stock. (Please input ZM in the parantheses)."
   ]
  },
  {
   "cell_type": "code",
   "execution_count": null,
   "metadata": {},
   "outputs": [],
   "source": [
    "stock.mean2020()"
   ]
  },
  {
   "cell_type": "code",
   "execution_count": null,
   "metadata": {},
   "outputs": [],
   "source": [
    "stock.March2020Increase()"
   ]
  },
  {
   "cell_type": "code",
   "execution_count": null,
   "metadata": {},
   "outputs": [],
   "source": [
    "stock.March2020Closing()"
   ]
  },
  {
   "cell_type": "markdown",
   "metadata": {},
   "source": [
    "For my project, I worked with two stocks, NFLX (Netflix) and ZM (Zoom). Running all three functions of the module allows me to compare how the two stocks did in March 2020, the month when fears of the virus pandemic escalated drastically. Many stocks took a hit, as seen in the chart for NFLX. However, for some, it was an opportunity to grow, such as ZM. For example, ZM had 14 days where its opening prices was higher compared to the previous day versus NFLX's 12. I researched on how to use inputs when calling functions. My functions would go through files to find differences in opening prices to print out a list of days, or print out the stock prices in the form of a chart."
   ]
  },
  {
   "cell_type": "code",
   "execution_count": null,
   "metadata": {},
   "outputs": [],
   "source": [
    "import Test\n",
    "!pytest Test.py"
   ]
  }
 ],
 "metadata": {
  "kernelspec": {
   "display_name": "Python 3",
   "language": "python",
   "name": "python3"
  },
  "language_info": {
   "codemirror_mode": {
    "name": "ipython",
    "version": 3
   },
   "file_extension": ".py",
   "mimetype": "text/x-python",
   "name": "python",
   "nbconvert_exporter": "python",
   "pygments_lexer": "ipython3",
   "version": "3.8.6"
  }
 },
 "nbformat": 4,
 "nbformat_minor": 2
}
